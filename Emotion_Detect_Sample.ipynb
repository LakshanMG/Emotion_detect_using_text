{
 "cells": [
  {
   "cell_type": "code",
   "execution_count": 3,
   "id": "d1d0d911",
   "metadata": {},
   "outputs": [],
   "source": [
    "import pandas as pd\n",
    "import numpy as np\n",
    "import neattext.functions as nfx\n",
    "import emoji\n",
    "import re\n",
    "import seaborn as sns"
   ]
  },
  {
   "cell_type": "code",
   "execution_count": 2,
   "id": "2509bcfa",
   "metadata": {},
   "outputs": [],
   "source": [
    "df = pd.read_csv(\"dataset.csv\")"
   ]
  },
  {
   "cell_type": "code",
   "execution_count": 3,
   "id": "fa1080f7",
   "metadata": {},
   "outputs": [
    {
     "data": {
      "text/html": [
       "<div>\n",
       "<style scoped>\n",
       "    .dataframe tbody tr th:only-of-type {\n",
       "        vertical-align: middle;\n",
       "    }\n",
       "\n",
       "    .dataframe tbody tr th {\n",
       "        vertical-align: top;\n",
       "    }\n",
       "\n",
       "    .dataframe thead th {\n",
       "        text-align: right;\n",
       "    }\n",
       "</style>\n",
       "<table border=\"1\" class=\"dataframe\">\n",
       "  <thead>\n",
       "    <tr style=\"text-align: right;\">\n",
       "      <th></th>\n",
       "      <th>Text</th>\n",
       "      <th>Emotion</th>\n",
       "    </tr>\n",
       "  </thead>\n",
       "  <tbody>\n",
       "    <tr>\n",
       "      <th>0</th>\n",
       "      <td>a few monthe ago</td>\n",
       "      <td>neutral</td>\n",
       "    </tr>\n",
       "    <tr>\n",
       "      <th>1</th>\n",
       "      <td>a friend of mine goes out with this guy she sl...</td>\n",
       "      <td>happy</td>\n",
       "    </tr>\n",
       "    <tr>\n",
       "      <th>2</th>\n",
       "      <td>a girl entered in the division where i work an...</td>\n",
       "      <td>neutral</td>\n",
       "    </tr>\n",
       "    <tr>\n",
       "      <th>3</th>\n",
       "      <td>about the car sadness i felt anger the way i a...</td>\n",
       "      <td>sad</td>\n",
       "    </tr>\n",
       "    <tr>\n",
       "      <th>4</th>\n",
       "      <td>after the funeral of an acquaintance i felt ve...</td>\n",
       "      <td>sad</td>\n",
       "    </tr>\n",
       "  </tbody>\n",
       "</table>\n",
       "</div>"
      ],
      "text/plain": [
       "                                                Text  Emotion\n",
       "0                                   a few monthe ago  neutral\n",
       "1  a friend of mine goes out with this guy she sl...    happy\n",
       "2  a girl entered in the division where i work an...  neutral\n",
       "3  about the car sadness i felt anger the way i a...      sad\n",
       "4  after the funeral of an acquaintance i felt ve...      sad"
      ]
     },
     "execution_count": 3,
     "metadata": {},
     "output_type": "execute_result"
    }
   ],
   "source": [
    "df.head()"
   ]
  },
  {
   "cell_type": "code",
   "execution_count": 4,
   "id": "78e2398e",
   "metadata": {},
   "outputs": [
    {
     "data": {
      "text/plain": [
       "neutral    1000\n",
       "happy      1000\n",
       "sad        1000\n",
       "angry       999\n",
       "Name: Emotion, dtype: int64"
      ]
     },
     "execution_count": 4,
     "metadata": {},
     "output_type": "execute_result"
    }
   ],
   "source": [
    "df['Emotion'].value_counts()"
   ]
  },
  {
   "cell_type": "code",
   "execution_count": 5,
   "id": "8a50b714",
   "metadata": {},
   "outputs": [
    {
     "data": {
      "text/plain": [
       "<AxesSubplot:xlabel='Emotion', ylabel='count'>"
      ]
     },
     "execution_count": 5,
     "metadata": {},
     "output_type": "execute_result"
    },
    {
     "data": {
      "image/png": "[encoded data removed]",
      "text/plain": [
       "<Figure size 640x480 with 1 Axes>"
      ]
     },
     "metadata": {},
     "output_type": "display_data"
    }
   ],
   "source": [
    "sns.countplot(x='Emotion',data=df)"
   ]
  },
  {
   "cell_type": "code",
   "execution_count": 6,
   "id": "43396cd1",
   "metadata": {},
   "outputs": [
    {
     "name": "stdout",
     "output_type": "stream",
     "text": [
      "Cleaning complete. File saved as 'cleaned_data.csv'.\n"
     ]
    }
   ],
   "source": [
    "# Function to remove emojis\n",
    "def remove_emojis(text):\n",
    "    return emoji.replace_emoji(text, replace='')\n",
    "\n",
    "# Function to remove special Characters\n",
    "def remove_special_characters(text):\n",
    "    return re.sub(r'[^A-Za-z0-9\\s]', '', text)\n",
    "\n",
    "column_to_clean = 'Text'\n",
    "\n",
    "# Convert to string, remove emojis, then special characters\n",
    "df[column_to_clean] = df[column_to_clean].astype(str)\n",
    "df[column_to_clean] = df[column_to_clean].apply(remove_emojis)\n",
    "df[column_to_clean] = df[column_to_clean].apply(remove_special_characters)\n",
    "\n",
    "# Save cleaned data\n",
    "df.to_csv(\"cleaned_data.csv\", index=False)\n",
    "\n",
    "print(\"Cleaning complete. File saved as 'cleaned_data.csv'.\")"
   ]
  },
  {
   "cell_type": "code",
   "execution_count": 7,
   "id": "98a75fbb",
   "metadata": {},
   "outputs": [
    {
     "name": "stdout",
     "output_type": "stream",
     "text": [
      "Empty rows in the 'Text' column have been removed and saved to 'cleaned_data_no_empty_rows.csv'.\n"
     ]
    }
   ],
   "source": [
    "# Load the file Cleaned_data.csv\n",
    "df = pd.read_csv(\"cleaned_data.csv\")\n",
    "\n",
    "text_column = 'Text'\n",
    "\n",
    "# Replace empty strings or whitespace-only cells with NaN\n",
    "df[text_column] = df[text_column].replace(r'^\\s*$', pd.NA, regex=True)\n",
    "\n",
    "# Drop rows where Text is NaN\n",
    "df = df.dropna(subset=[text_column])\n",
    "\n",
    "# Save to a new CSV file\n",
    "df.to_csv(\"cleaned_data_no_empty_rows.csv\", index=False)\n",
    "\n",
    "print(\"Empty rows in the 'Text' column have been removed and saved to 'cleaned_data_no_empty_rows.csv'.\")"
   ]
  },
  {
   "cell_type": "code",
   "execution_count": 4,
   "id": "dbeaa146",
   "metadata": {},
   "outputs": [
    {
     "name": "stderr",
     "output_type": "stream",
     "text": [
      "[nltk_data] Downloading package stopwords to\n",
      "[nltk_data]     C:\\Users\\SaJiTh\\AppData\\Roaming\\nltk_data...\n",
      "[nltk_data]   Package stopwords is already up-to-date!\n"
     ]
    }
   ],
   "source": [
    "import nltk\n",
    "from sklearn.model_selection import train_test_split\n",
    "from sklearn.feature_extraction.text import TfidfVectorizer\n",
    "\n",
    "# Download NLTK stopwords\n",
    "nltk.download('stopwords')\n",
    "from nltk.corpus import stopwords"
   ]
  },
  {
   "cell_type": "code",
   "execution_count": 9,
   "id": "60634892",
   "metadata": {},
   "outputs": [
    {
     "name": "stdout",
     "output_type": "stream",
     "text": [
      "Preprocessed text saved to 'preprocessed_data.csv'.\n"
     ]
    }
   ],
   "source": [
    "# Load the cleaned CSV\n",
    "df = pd.read_csv(\"cleaned_data_no_empty_rows.csv\")\n",
    "\n",
    "text_col = 'Text'\n",
    "\n",
    "def preprocess(text):\n",
    "    text = text.lower()  # lowercase\n",
    "    text = re.sub(r'http\\S+', '', text)  # remove URLs\n",
    "    text = re.sub(r'\\d+', '', text)  # remove digits\n",
    "    text = re.sub(r'[^\\w\\s]', '', text)  # remove punctuation\n",
    "    text = text.strip()\n",
    "    stop_words = set(stopwords.words('english'))\n",
    "    text = \" \".join([word for word in text.split() if word not in stop_words])\n",
    "    return text\n",
    "\n",
    "# Apply preprocessing\n",
    "df[text_col] = df[text_col].astype(str).apply(preprocess)\n",
    "\n",
    "# Remove empty rows (after cleaning)\n",
    "df = df[df[text_col].str.strip() != '']\n",
    "\n",
    "# Save to new CSV\n",
    "df.to_csv(\"preprocessed_data.csv\", index=False)\n",
    "\n",
    "print(\"Preprocessed text saved to 'preprocessed_data.csv'.\")"
   ]
  },
  {
   "cell_type": "code",
   "execution_count": 10,
   "id": "f00d05ef",
   "metadata": {},
   "outputs": [],
   "source": [
    "df = pd.read_csv(\"preprocessed_data.csv\")"
   ]
  },
  {
   "cell_type": "code",
   "execution_count": 11,
   "id": "44b67255",
   "metadata": {},
   "outputs": [
    {
     "data": {
      "text/html": [
       "<div>\n",
       "<style scoped>\n",
       "    .dataframe tbody tr th:only-of-type {\n",
       "        vertical-align: middle;\n",
       "    }\n",
       "\n",
       "    .dataframe tbody tr th {\n",
       "        vertical-align: top;\n",
       "    }\n",
       "\n",
       "    .dataframe thead th {\n",
       "        text-align: right;\n",
       "    }\n",
       "</style>\n",
       "<table border=\"1\" class=\"dataframe\">\n",
       "  <thead>\n",
       "    <tr style=\"text-align: right;\">\n",
       "      <th></th>\n",
       "      <th>Text</th>\n",
       "      <th>Emotion</th>\n",
       "    </tr>\n",
       "  </thead>\n",
       "  <tbody>\n",
       "    <tr>\n",
       "      <th>0</th>\n",
       "      <td>monthe ago</td>\n",
       "      <td>neutral</td>\n",
       "    </tr>\n",
       "    <tr>\n",
       "      <th>1</th>\n",
       "      <td>friend mine goes guy sleeps quite happy play a...</td>\n",
       "      <td>happy</td>\n",
       "    </tr>\n",
       "    <tr>\n",
       "      <th>2</th>\n",
       "      <td>girl entered division work greeted everybody</td>\n",
       "      <td>neutral</td>\n",
       "    </tr>\n",
       "    <tr>\n",
       "      <th>3</th>\n",
       "      <td>car sadness felt anger way acted negotiating</td>\n",
       "      <td>sad</td>\n",
       "    </tr>\n",
       "    <tr>\n",
       "      <th>4</th>\n",
       "      <td>funeral acquaintance felt depressed feeling tu...</td>\n",
       "      <td>sad</td>\n",
       "    </tr>\n",
       "  </tbody>\n",
       "</table>\n",
       "</div>"
      ],
      "text/plain": [
       "                                                Text  Emotion\n",
       "0                                         monthe ago  neutral\n",
       "1  friend mine goes guy sleeps quite happy play a...    happy\n",
       "2       girl entered division work greeted everybody  neutral\n",
       "3       car sadness felt anger way acted negotiating      sad\n",
       "4  funeral acquaintance felt depressed feeling tu...      sad"
      ]
     },
     "execution_count": 11,
     "metadata": {},
     "output_type": "execute_result"
    }
   ],
   "source": [
    "df.head()"
   ]
  },
  {
   "cell_type": "code",
   "execution_count": 12,
   "id": "ccf3443f",
   "metadata": {},
   "outputs": [
    {
     "data": {
      "text/plain": [
       "neutral    1000\n",
       "happy      1000\n",
       "sad        1000\n",
       "angry       999\n",
       "Name: Emotion, dtype: int64"
      ]
     },
     "execution_count": 12,
     "metadata": {},
     "output_type": "execute_result"
    }
   ],
   "source": [
    "df['Emotion'].value_counts()"
   ]
  },
  {
   "cell_type": "code",
   "execution_count": 13,
   "id": "50f76dd6",
   "metadata": {},
   "outputs": [
    {
     "name": "stdout",
     "output_type": "stream",
     "text": [
      "Duplicates removed based on 'Text'. Saved to 'preprocessed_no_duplicates.csv'.\n"
     ]
    }
   ],
   "source": [
    "# Load data\n",
    "df = pd.read_csv(\"preprocessed_data.csv\")\n",
    "\n",
    "# Drop duplicates based only on the 'Text' column\n",
    "df = df.drop_duplicates(subset='Text', keep='first')\n",
    "\n",
    "# Save the cleaned data\n",
    "df.to_csv(\"preprocessed_no_duplicates.csv\", index=False)\n",
    "\n",
    "print(\"Duplicates removed based on 'Text'. Saved to 'preprocessed_no_duplicates.csv'.\")"
   ]
  },
  {
   "cell_type": "code",
   "execution_count": 5,
   "id": "44e7e34a",
   "metadata": {},
   "outputs": [],
   "source": [
    "from tensorflow.keras.preprocessing.text import Tokenizer\n",
    "from tensorflow.keras.preprocessing.sequence import pad_sequences\n",
    "from tensorflow.keras.utils import to_categorical\n",
    "from tensorflow.keras.models import Sequential\n",
    "from tensorflow.keras.layers import Embedding, GlobalAveragePooling1D, Dense, Dropout"
   ]
  },
  {
   "cell_type": "code",
   "execution_count": 6,
   "id": "29872a73",
   "metadata": {},
   "outputs": [
    {
     "name": "stdout",
     "output_type": "stream",
     "text": [
      "Dataset size: 3948\n",
      "                                                Text  Emotion\n",
      "0                                         monthe ago  neutral\n",
      "1  friend mine goes guy sleeps quite happy play a...    happy\n",
      "2       girl entered division work greeted everybody  neutral\n",
      "3       car sadness felt anger way acted negotiating      sad\n",
      "4  funeral acquaintance felt depressed feeling tu...      sad\n"
     ]
    }
   ],
   "source": [
    "# Load preprocessed CSV with 'Text' and 'Emotion' columns\n",
    "data = pd.read_csv('preprocessed_no_duplicates.csv')\n",
    "\n",
    "print(f\"Dataset size: {len(data)}\")\n",
    "print(data.head())"
   ]
  },
  {
   "cell_type": "code",
   "execution_count": 7,
   "id": "caf42b42",
   "metadata": {},
   "outputs": [
    {
     "name": "stdout",
     "output_type": "stream",
     "text": [
      "Unmapped labels count: 0\n"
     ]
    }
   ],
   "source": [
    "# Define mapping based on emotion categories\n",
    "emotion_map = {'happy': 0, 'sad': 1, 'angry': 2, 'neutral': 3}\n",
    "\n",
    "# Map emotions to numeric labels\n",
    "data['label'] = data['Emotion'].map(emotion_map)\n",
    "\n",
    "# Check for unmapped labels (NaN) and drop them if any\n",
    "print(f\"Unmapped labels count: {data['label'].isnull().sum()}\")\n",
    "data = data.dropna(subset=['label'])\n",
    "\n",
    "data['label'] = data['label'].astype(int)"
   ]
  },
  {
   "cell_type": "code",
   "execution_count": 8,
   "id": "639a4742",
   "metadata": {},
   "outputs": [
    {
     "name": "stdout",
     "output_type": "stream",
     "text": [
      "Training samples: 3158, Test samples: 790\n"
     ]
    }
   ],
   "source": [
    "X = data['Text']\n",
    "y = data['label']\n",
    "\n",
    "X_train, X_test, y_train, y_test = train_test_split(\n",
    "    X, y,\n",
    "    test_size=0.2,\n",
    "    stratify=y,\n",
    "    random_state=42\n",
    ")\n",
    "\n",
    "print(f\"Training samples: {len(X_train)}, Test samples: {len(X_test)}\")"
   ]
  },
  {
   "cell_type": "code",
   "execution_count": 9,
   "id": "9685c419",
   "metadata": {},
   "outputs": [],
   "source": [
    "max_words = 40000\n",
    "max_length = 100   \n",
    "\n",
    "tokenizer = Tokenizer(num_words=max_words, oov_token=\"<OOV>\")\n",
    "tokenizer.fit_on_texts(X_train)\n",
    "\n",
    "# Convert texts to sequences of ints\n",
    "X_train_seq = tokenizer.texts_to_sequences(X_train)\n",
    "X_test_seq = tokenizer.texts_to_sequences(X_test)\n",
    "\n",
    "# Pad sequences to have uniform length\n",
    "X_train_pad = pad_sequences(X_train_seq, maxlen=max_length, padding='post')\n",
    "X_test_pad = pad_sequences(X_test_seq, maxlen=max_length, padding='post')"
   ]
  },
  {
   "cell_type": "code",
   "execution_count": 10,
   "id": "ee050285",
   "metadata": {},
   "outputs": [],
   "source": [
    "num_classes = 4  # Happy, Sad, Angry, Neutral\n",
    "\n",
    "y_train_ohe = to_categorical(y_train, num_classes=num_classes)\n",
    "y_test_ohe = to_categorical(y_test, num_classes=num_classes)"
   ]
  },
  {
   "cell_type": "code",
   "execution_count": 11,
   "id": "19459740",
   "metadata": {},
   "outputs": [],
   "source": [
    "model = Sequential([\n",
    "    Embedding(input_dim=max_words, output_dim=64, input_length=max_length),\n",
    "    GlobalAveragePooling1D(),\n",
    "    Dense(32, activation='relu'),\n",
    "    Dropout(0.5),\n",
    "    Dense(num_classes, activation='softmax')\n",
    "])"
   ]
  },
  {
   "cell_type": "code",
   "execution_count": 12,
   "id": "cdccbd7a",
   "metadata": {},
   "outputs": [],
   "source": [
    "model.compile(\n",
    "    loss='categorical_crossentropy',\n",
    "    optimizer='adam',\n",
    "    metrics=['accuracy']\n",
    ")"
   ]
  },
  {
   "cell_type": "code",
   "execution_count": 13,
   "id": "15adbdf9",
   "metadata": {},
   "outputs": [
    {
     "name": "stdout",
     "output_type": "stream",
     "text": [
      "Epoch 1/10\n",
      "57/57 [==============================] - 3s 39ms/step - loss: 1.3866 - accuracy: 0.2400 - val_loss: 1.3859 - val_accuracy: 0.2342\n",
      "Epoch 2/10\n",
      "57/57 [==============================] - 2s 36ms/step - loss: 1.3840 - accuracy: 0.2854 - val_loss: 1.3853 - val_accuracy: 0.2595\n",
      "Epoch 3/10\n",
      "57/57 [==============================] - 2s 36ms/step - loss: 1.3802 - accuracy: 0.3037 - val_loss: 1.3805 - val_accuracy: 0.4241\n",
      "Epoch 4/10\n",
      "57/57 [==============================] - 2s 38ms/step - loss: 1.3729 - accuracy: 0.3642 - val_loss: 1.3723 - val_accuracy: 0.3576\n",
      "Epoch 5/10\n",
      "57/57 [==============================] - 2s 39ms/step - loss: 1.3530 - accuracy: 0.3951 - val_loss: 1.3502 - val_accuracy: 0.4019\n",
      "Epoch 6/10\n",
      "57/57 [==============================] - 2s 39ms/step - loss: 1.3081 - accuracy: 0.4736 - val_loss: 1.3097 - val_accuracy: 0.4241\n",
      "Epoch 7/10\n",
      "57/57 [==============================] - 2s 40ms/step - loss: 1.2299 - accuracy: 0.5211 - val_loss: 1.2346 - val_accuracy: 0.4272\n",
      "Epoch 8/10\n",
      "57/57 [==============================] - 2s 37ms/step - loss: 1.1237 - accuracy: 0.5753 - val_loss: 1.1399 - val_accuracy: 0.5854\n",
      "Epoch 9/10\n",
      "57/57 [==============================] - 2s 39ms/step - loss: 1.0168 - accuracy: 0.6168 - val_loss: 1.0503 - val_accuracy: 0.6456\n",
      "Epoch 10/10\n",
      "57/57 [==============================] - 2s 40ms/step - loss: 0.9348 - accuracy: 0.6520 - val_loss: 0.9612 - val_accuracy: 0.7848\n"
     ]
    }
   ],
   "source": [
    "history = model.fit(\n",
    "    X_train_pad,\n",
    "    y_train_ohe,\n",
    "    validation_split=0.1,\n",
    "    epochs=10,\n",
    "    batch_size=50\n",
    ")"
   ]
  },
  {
   "cell_type": "code",
   "execution_count": 14,
   "id": "eb3eb651",
   "metadata": {},
   "outputs": [
    {
     "name": "stdout",
     "output_type": "stream",
     "text": [
      "25/25 [==============================] - 0s 1ms/step - loss: 0.9534 - accuracy: 0.7949\n",
      "Test Accuracy: 0.7949\n"
     ]
    }
   ],
   "source": [
    "loss, accuracy = model.evaluate(X_test_pad, y_test_ohe)\n",
    "print(f\"Test Accuracy: {accuracy:.4f}\")"
   ]
  },
  {
   "cell_type": "code",
   "execution_count": 24,
   "id": "e12f5cfc",
   "metadata": {},
   "outputs": [
    {
     "name": "stdout",
     "output_type": "stream",
     "text": [
      "Text: I'm feeling amazing today!\n",
      "1/1 [==============================] - 0s 15ms/step\n",
      "Predicted emotion: happy\n"
     ]
    }
   ],
   "source": [
    "def predict_emotion(text):\n",
    "    \"\"\"\n",
    "    Predicts the emotion category for a single text string.\n",
    "    \"\"\"\n",
    "    # Convert text to sequence using trained tokenizer\n",
    "    seq = tokenizer.texts_to_sequences([text])\n",
    "    pad = pad_sequences(seq, maxlen=max_length, padding='post')\n",
    "    pred = model.predict(pad)\n",
    "    # Map prediction index back to emotion label\n",
    "    emotion_label = list(emotion_map.keys())[pred.argmax()]\n",
    "    return emotion_label\n",
    "\n",
    "# Example usage\n",
    "sample_text = \"I'm feeling amazing today! Everything is going so well!\"\n",
    "print(\"Text:\", sample_text)\n",
    "print(\"Predicted emotion:\", predict_emotion(sample_text))"
   ]
  },
  {
   "cell_type": "code",
   "execution_count": null,
   "id": "6f70e6f5",
   "metadata": {},
   "outputs": [],
   "source": []
  }
 ],
 "metadata": {
  "kernelspec": {
   "display_name": "Python 3 (ipykernel)",
   "language": "python",
   "name": "python3"
  },
  "language_info": {
   "codemirror_mode": {
    "name": "ipython",
    "version": 3
   },
   "file_extension": ".py",
   "mimetype": "text/x-python",
   "name": "python",
   "nbconvert_exporter": "python",
   "pygments_lexer": "ipython3",
   "version": "3.7.16"
  }
 },
 "nbformat": 4,
 "nbformat_minor": 5
}
